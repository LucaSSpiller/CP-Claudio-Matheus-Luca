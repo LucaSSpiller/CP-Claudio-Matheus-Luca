{
  "nbformat": 4,
  "nbformat_minor": 0,
  "metadata": {
    "colab": {
      "provenance": [],
      "include_colab_link": true
    },
    "kernelspec": {
      "name": "python3",
      "display_name": "Python 3"
    },
    "language_info": {
      "name": "python"
    }
  },
  "cells": [
    {
      "cell_type": "markdown",
      "metadata": {
        "id": "view-in-github",
        "colab_type": "text"
      },
      "source": [
        "<a href=\"https://colab.research.google.com/github/LucaSSpiller/CP-Claudio-Matheus-Luca/blob/main/Aula04_Machine_learning_funcionando.ipynb\" target=\"_parent\"><img src=\"https://colab.research.google.com/assets/colab-badge.svg\" alt=\"Open In Colab\"/></a>"
      ]
    },
    {
      "cell_type": "markdown",
      "source": [
        "# **Atenção**:\n",
        "Nessa atividade vamos utilizar o seaborn para criar gráficos, para isso precisamos garantir que a última versão esteja atualizada, por isso usamos o comando abaixo para instalá-la."
      ],
      "metadata": {
        "id": "sx0-fq0FhtRF"
      }
    },
    {
      "cell_type": "code",
      "source": [
        "!pip3 install seaborn"
      ],
      "metadata": {
        "id": "FXcPrwG-4KBA",
        "colab": {
          "base_uri": "https://localhost:8080/"
        },
        "outputId": "e09a621a-9d8e-422f-c1dc-f168b9af4f0b"
      },
      "execution_count": 1,
      "outputs": [
        {
          "output_type": "stream",
          "name": "stdout",
          "text": [
            "Looking in indexes: https://pypi.org/simple, https://us-python.pkg.dev/colab-wheels/public/simple/\n",
            "Requirement already satisfied: seaborn in /usr/local/lib/python3.8/dist-packages (0.11.2)\n",
            "Requirement already satisfied: pandas>=0.23 in /usr/local/lib/python3.8/dist-packages (from seaborn) (1.3.5)\n",
            "Requirement already satisfied: numpy>=1.15 in /usr/local/lib/python3.8/dist-packages (from seaborn) (1.22.4)\n",
            "Requirement already satisfied: matplotlib>=2.2 in /usr/local/lib/python3.8/dist-packages (from seaborn) (3.5.3)\n",
            "Requirement already satisfied: scipy>=1.0 in /usr/local/lib/python3.8/dist-packages (from seaborn) (1.10.1)\n",
            "Requirement already satisfied: kiwisolver>=1.0.1 in /usr/local/lib/python3.8/dist-packages (from matplotlib>=2.2->seaborn) (1.4.4)\n",
            "Requirement already satisfied: python-dateutil>=2.7 in /usr/local/lib/python3.8/dist-packages (from matplotlib>=2.2->seaborn) (2.8.2)\n",
            "Requirement already satisfied: packaging>=20.0 in /usr/local/lib/python3.8/dist-packages (from matplotlib>=2.2->seaborn) (23.0)\n",
            "Requirement already satisfied: pillow>=6.2.0 in /usr/local/lib/python3.8/dist-packages (from matplotlib>=2.2->seaborn) (8.4.0)\n",
            "Requirement already satisfied: pyparsing>=2.2.1 in /usr/local/lib/python3.8/dist-packages (from matplotlib>=2.2->seaborn) (3.0.9)\n",
            "Requirement already satisfied: cycler>=0.10 in /usr/local/lib/python3.8/dist-packages (from matplotlib>=2.2->seaborn) (0.11.0)\n",
            "Requirement already satisfied: fonttools>=4.22.0 in /usr/local/lib/python3.8/dist-packages (from matplotlib>=2.2->seaborn) (4.38.0)\n",
            "Requirement already satisfied: pytz>=2017.3 in /usr/local/lib/python3.8/dist-packages (from pandas>=0.23->seaborn) (2022.7.1)\n",
            "Requirement already satisfied: six>=1.5 in /usr/local/lib/python3.8/dist-packages (from python-dateutil>=2.7->matplotlib>=2.2->seaborn) (1.15.0)\n"
          ]
        }
      ]
    },
    {
      "cell_type": "markdown",
      "source": [
        "Também vamos precisar do scikit-learn para criar modelos de ML e subsets de treino e teste, para isso, precisamos do comando abaixo para instala-la também."
      ],
      "metadata": {
        "id": "cGTdiD7MkdId"
      }
    },
    {
      "cell_type": "code",
      "source": [
        "!pip3 install scikit-learn"
      ],
      "metadata": {
        "colab": {
          "base_uri": "https://localhost:8080/"
        },
        "id": "1nN40Meeksr3",
        "outputId": "fff1483c-b984-455f-8a96-c7375717bc9d"
      },
      "execution_count": 2,
      "outputs": [
        {
          "output_type": "stream",
          "name": "stdout",
          "text": [
            "Looking in indexes: https://pypi.org/simple, https://us-python.pkg.dev/colab-wheels/public/simple/\n",
            "Requirement already satisfied: scikit-learn in /usr/local/lib/python3.8/dist-packages (1.2.1)\n",
            "Requirement already satisfied: scipy>=1.3.2 in /usr/local/lib/python3.8/dist-packages (from scikit-learn) (1.10.1)\n",
            "Requirement already satisfied: joblib>=1.1.1 in /usr/local/lib/python3.8/dist-packages (from scikit-learn) (1.2.0)\n",
            "Requirement already satisfied: threadpoolctl>=2.0.0 in /usr/local/lib/python3.8/dist-packages (from scikit-learn) (3.1.0)\n",
            "Requirement already satisfied: numpy>=1.17.3 in /usr/local/lib/python3.8/dist-packages (from scikit-learn) (1.22.4)\n"
          ]
        }
      ]
    },
    {
      "cell_type": "markdown",
      "source": [
        "# **LAB 02 - Aprendizado Supervisionado - Classificação**"
      ],
      "metadata": {
        "id": "h-iQ2NhI4GRw"
      }
    },
    {
      "cell_type": "markdown",
      "source": [
        "## **Objetivos**\n",
        "\n",
        "* Apresentar e utilizar o algoritmo K-Nearest Neighbours (K-NN);\n",
        "* Apresentar e entender como funcionam as etapas de treino e teste do algoritmo;\n",
        "* Apresentar as métricas de performance do modelo;"
      ],
      "metadata": {
        "id": "6toS-GCOBCic"
      }
    },
    {
      "cell_type": "markdown",
      "source": [
        "## **Como funciona o K-NN?**\n",
        "\n",
        "O KNN (K-Nearest Neighbors) é um algoritmo de aprendizado de máquina supervisionado mais usado para problemas de classificação. A abordagem básica do algoritmo KNN é encontrar os K pontos de dados mais próximos ao ponto de dados de teste e, em seguida, prever a classe do ponto de dados de teste com base nas classes dos pontos de dados mais próximos.\n",
        "\n",
        "O KNN segue os seguintes passos principais:\n",
        "\n",
        "**1.** Receba um dado não classificado e meça distância do novo dado em relação a cada um dos outros dados que já estão classificados;\n",
        "\n",
        "**2.** Selecione as K menores distâncias;\n",
        "\n",
        "**3.** Verifique a(s) classe(s) dos dados que tiveram as K menores distâncias e \n",
        "contabilize a quantidade de vezes que cada classe que apareceu;\n",
        "\n",
        "**4.** Classifique esse novo dado como pertencente à classe que mais apareceu\n",
        "\n",
        "A distância pode ser medida de diferentes maneiras, como a distância Euclidiana, Manhattan, de Minkowski, entre outras. A escolha da medida de distância depende do problema em questão.\n",
        "\n",
        "O algoritmo KNN é considerado um algoritmo simples e rápido de treinar, mas pode não funcionar bem em conjuntos de dados com muitas características, pois a distância entre os pontos pode se tornar muito grande em altas dimensões. Além disso, o valor de K pode afetar a precisão do modelo, portanto, é importante escolher um valor adequado para K."
      ],
      "metadata": {
        "id": "H9XG0HdkBGK9"
      }
    },
    {
      "cell_type": "markdown",
      "source": [
        "## **Definição do Problema**\n",
        "\n",
        "Desenvolver um sistema de machine learning capaz de classificar a espécie da flor íris com base nas suas características de Pétala e Sépala. Para isso vamos usar o dataset da ultima aula (https://archive.ics.uci.edu/ml/datasets/Iris).\n",
        "\n",
        "Esse dataset contém 150 exemplares de flor íris, separadas em três espécies diferentes: **setosa**, **versicolor** e **virginica**, sendo que foram utilizadas 50 amostras de cada espécie. Os atributos de largura e comprimento da sépala e da pétala de cada flor foram medidos manualmente.\n",
        "\n",
        "<img src=\"https://s3.amazonaws.com/assets.datacamp.com/blog_assets/Machine+Learning+R/iris-machinelearning.png\">"
      ],
      "metadata": {
        "id": "oDZ-G1zv8XHT"
      }
    },
    {
      "cell_type": "markdown",
      "source": [
        "### **1** - Do Ponto de vista de Machine Learning, qual a classificação desse problema?"
      ],
      "metadata": {
        "id": "uidB47Ee_i0-"
      }
    },
    {
      "cell_type": "markdown",
      "source": [
        "Resposta: Classificação"
      ],
      "metadata": {
        "id": "UmikgtrNA9LF"
      }
    },
    {
      "cell_type": "markdown",
      "source": [
        "### **2** - Carregue o Dataset e mostre as 10 primeiras linhas do dataset. Em seguida mostre as 10 ultimas linhas do dataset. Não esqueça de colocar o cabeçalho nos dados."
      ],
      "metadata": {
        "id": "PIvNaOB8CpKO"
      }
    },
    {
      "cell_type": "code",
      "source": [
        "%matplotlib inline\n",
        "import pandas as pd\n",
        "import matplotlib.pyplot as plt\n",
        "\n",
        "# Caminho do arquivo\n",
        "url = \"https://archive.ics.uci.edu/ml/machine-learning-databases/iris/iris.data\"\n",
        "\n",
        "# Define o nome das colunas\n",
        "header = ['sepal_length', 'sepal_widht', 'petal_lenght', 'petal_width', 'species']\n",
        "\n",
        "# Lê e carrega o arquivo para a memória\n",
        "df = pd.read_csv(url, header=None, names=header)\n",
        "\n",
        "# Retorna um trecho das 10 primeiras linhas do dataframe\n",
        "print(df.head(10))\n",
        "\n",
        "print()\n",
        "\n",
        "# Retorna um trecho com as 10 últimas linhas do dataframe\n",
        "print(df.tail(10))"
      ],
      "metadata": {
        "id": "9mB7I5GRD8Ha",
        "colab": {
          "base_uri": "https://localhost:8080/",
          "height": 380
        },
        "outputId": "783e2c98-cbec-416e-db77-18c03bc51f17"
      },
      "execution_count": 19,
      "outputs": [
        {
          "output_type": "stream",
          "name": "stdout",
          "text": [
            "\n"
          ]
        },
        {
          "output_type": "execute_result",
          "data": {
            "text/plain": [
              "     sepal_length  sepal_widht  petal_lenght  petal_width         species\n",
              "140           6.7          3.1           5.6          2.4  Iris-virginica\n",
              "141           6.9          3.1           5.1          2.3  Iris-virginica\n",
              "142           5.8          2.7           5.1          1.9  Iris-virginica\n",
              "143           6.8          3.2           5.9          2.3  Iris-virginica\n",
              "144           6.7          3.3           5.7          2.5  Iris-virginica\n",
              "145           6.7          3.0           5.2          2.3  Iris-virginica\n",
              "146           6.3          2.5           5.0          1.9  Iris-virginica\n",
              "147           6.5          3.0           5.2          2.0  Iris-virginica\n",
              "148           6.2          3.4           5.4          2.3  Iris-virginica\n",
              "149           5.9          3.0           5.1          1.8  Iris-virginica"
            ],
            "text/html": [
              "\n",
              "  <div id=\"df-b46df186-5589-4847-8d6b-d455f0df7290\">\n",
              "    <div class=\"colab-df-container\">\n",
              "      <div>\n",
              "<style scoped>\n",
              "    .dataframe tbody tr th:only-of-type {\n",
              "        vertical-align: middle;\n",
              "    }\n",
              "\n",
              "    .dataframe tbody tr th {\n",
              "        vertical-align: top;\n",
              "    }\n",
              "\n",
              "    .dataframe thead th {\n",
              "        text-align: right;\n",
              "    }\n",
              "</style>\n",
              "<table border=\"1\" class=\"dataframe\">\n",
              "  <thead>\n",
              "    <tr style=\"text-align: right;\">\n",
              "      <th></th>\n",
              "      <th>sepal_length</th>\n",
              "      <th>sepal_widht</th>\n",
              "      <th>petal_lenght</th>\n",
              "      <th>petal_width</th>\n",
              "      <th>species</th>\n",
              "    </tr>\n",
              "  </thead>\n",
              "  <tbody>\n",
              "    <tr>\n",
              "      <th>140</th>\n",
              "      <td>6.7</td>\n",
              "      <td>3.1</td>\n",
              "      <td>5.6</td>\n",
              "      <td>2.4</td>\n",
              "      <td>Iris-virginica</td>\n",
              "    </tr>\n",
              "    <tr>\n",
              "      <th>141</th>\n",
              "      <td>6.9</td>\n",
              "      <td>3.1</td>\n",
              "      <td>5.1</td>\n",
              "      <td>2.3</td>\n",
              "      <td>Iris-virginica</td>\n",
              "    </tr>\n",
              "    <tr>\n",
              "      <th>142</th>\n",
              "      <td>5.8</td>\n",
              "      <td>2.7</td>\n",
              "      <td>5.1</td>\n",
              "      <td>1.9</td>\n",
              "      <td>Iris-virginica</td>\n",
              "    </tr>\n",
              "    <tr>\n",
              "      <th>143</th>\n",
              "      <td>6.8</td>\n",
              "      <td>3.2</td>\n",
              "      <td>5.9</td>\n",
              "      <td>2.3</td>\n",
              "      <td>Iris-virginica</td>\n",
              "    </tr>\n",
              "    <tr>\n",
              "      <th>144</th>\n",
              "      <td>6.7</td>\n",
              "      <td>3.3</td>\n",
              "      <td>5.7</td>\n",
              "      <td>2.5</td>\n",
              "      <td>Iris-virginica</td>\n",
              "    </tr>\n",
              "    <tr>\n",
              "      <th>145</th>\n",
              "      <td>6.7</td>\n",
              "      <td>3.0</td>\n",
              "      <td>5.2</td>\n",
              "      <td>2.3</td>\n",
              "      <td>Iris-virginica</td>\n",
              "    </tr>\n",
              "    <tr>\n",
              "      <th>146</th>\n",
              "      <td>6.3</td>\n",
              "      <td>2.5</td>\n",
              "      <td>5.0</td>\n",
              "      <td>1.9</td>\n",
              "      <td>Iris-virginica</td>\n",
              "    </tr>\n",
              "    <tr>\n",
              "      <th>147</th>\n",
              "      <td>6.5</td>\n",
              "      <td>3.0</td>\n",
              "      <td>5.2</td>\n",
              "      <td>2.0</td>\n",
              "      <td>Iris-virginica</td>\n",
              "    </tr>\n",
              "    <tr>\n",
              "      <th>148</th>\n",
              "      <td>6.2</td>\n",
              "      <td>3.4</td>\n",
              "      <td>5.4</td>\n",
              "      <td>2.3</td>\n",
              "      <td>Iris-virginica</td>\n",
              "    </tr>\n",
              "    <tr>\n",
              "      <th>149</th>\n",
              "      <td>5.9</td>\n",
              "      <td>3.0</td>\n",
              "      <td>5.1</td>\n",
              "      <td>1.8</td>\n",
              "      <td>Iris-virginica</td>\n",
              "    </tr>\n",
              "  </tbody>\n",
              "</table>\n",
              "</div>\n",
              "      <button class=\"colab-df-convert\" onclick=\"convertToInteractive('df-b46df186-5589-4847-8d6b-d455f0df7290')\"\n",
              "              title=\"Convert this dataframe to an interactive table.\"\n",
              "              style=\"display:none;\">\n",
              "        \n",
              "  <svg xmlns=\"http://www.w3.org/2000/svg\" height=\"24px\"viewBox=\"0 0 24 24\"\n",
              "       width=\"24px\">\n",
              "    <path d=\"M0 0h24v24H0V0z\" fill=\"none\"/>\n",
              "    <path d=\"M18.56 5.44l.94 2.06.94-2.06 2.06-.94-2.06-.94-.94-2.06-.94 2.06-2.06.94zm-11 1L8.5 8.5l.94-2.06 2.06-.94-2.06-.94L8.5 2.5l-.94 2.06-2.06.94zm10 10l.94 2.06.94-2.06 2.06-.94-2.06-.94-.94-2.06-.94 2.06-2.06.94z\"/><path d=\"M17.41 7.96l-1.37-1.37c-.4-.4-.92-.59-1.43-.59-.52 0-1.04.2-1.43.59L10.3 9.45l-7.72 7.72c-.78.78-.78 2.05 0 2.83L4 21.41c.39.39.9.59 1.41.59.51 0 1.02-.2 1.41-.59l7.78-7.78 2.81-2.81c.8-.78.8-2.07 0-2.86zM5.41 20L4 18.59l7.72-7.72 1.47 1.35L5.41 20z\"/>\n",
              "  </svg>\n",
              "      </button>\n",
              "      \n",
              "  <style>\n",
              "    .colab-df-container {\n",
              "      display:flex;\n",
              "      flex-wrap:wrap;\n",
              "      gap: 12px;\n",
              "    }\n",
              "\n",
              "    .colab-df-convert {\n",
              "      background-color: #E8F0FE;\n",
              "      border: none;\n",
              "      border-radius: 50%;\n",
              "      cursor: pointer;\n",
              "      display: none;\n",
              "      fill: #1967D2;\n",
              "      height: 32px;\n",
              "      padding: 0 0 0 0;\n",
              "      width: 32px;\n",
              "    }\n",
              "\n",
              "    .colab-df-convert:hover {\n",
              "      background-color: #E2EBFA;\n",
              "      box-shadow: 0px 1px 2px rgba(60, 64, 67, 0.3), 0px 1px 3px 1px rgba(60, 64, 67, 0.15);\n",
              "      fill: #174EA6;\n",
              "    }\n",
              "\n",
              "    [theme=dark] .colab-df-convert {\n",
              "      background-color: #3B4455;\n",
              "      fill: #D2E3FC;\n",
              "    }\n",
              "\n",
              "    [theme=dark] .colab-df-convert:hover {\n",
              "      background-color: #434B5C;\n",
              "      box-shadow: 0px 1px 3px 1px rgba(0, 0, 0, 0.15);\n",
              "      filter: drop-shadow(0px 1px 2px rgba(0, 0, 0, 0.3));\n",
              "      fill: #FFFFFF;\n",
              "    }\n",
              "  </style>\n",
              "\n",
              "      <script>\n",
              "        const buttonEl =\n",
              "          document.querySelector('#df-b46df186-5589-4847-8d6b-d455f0df7290 button.colab-df-convert');\n",
              "        buttonEl.style.display =\n",
              "          google.colab.kernel.accessAllowed ? 'block' : 'none';\n",
              "\n",
              "        async function convertToInteractive(key) {\n",
              "          const element = document.querySelector('#df-b46df186-5589-4847-8d6b-d455f0df7290');\n",
              "          const dataTable =\n",
              "            await google.colab.kernel.invokeFunction('convertToInteractive',\n",
              "                                                     [key], {});\n",
              "          if (!dataTable) return;\n",
              "\n",
              "          const docLinkHtml = 'Like what you see? Visit the ' +\n",
              "            '<a target=\"_blank\" href=https://colab.research.google.com/notebooks/data_table.ipynb>data table notebook</a>'\n",
              "            + ' to learn more about interactive tables.';\n",
              "          element.innerHTML = '';\n",
              "          dataTable['output_type'] = 'display_data';\n",
              "          await google.colab.output.renderOutput(dataTable, element);\n",
              "          const docLink = document.createElement('div');\n",
              "          docLink.innerHTML = docLinkHtml;\n",
              "          element.appendChild(docLink);\n",
              "        }\n",
              "      </script>\n",
              "    </div>\n",
              "  </div>\n",
              "  "
            ]
          },
          "metadata": {},
          "execution_count": 19
        }
      ]
    },
    {
      "cell_type": "markdown",
      "source": [
        "### **3** - Verifique se as informações do Dataset estão condizentes com a definição do problema **\"Esse dataset contém 150 exemplares de flor íris, separadas em três espécies diferentes: setosa, versicolor e virginica, sendo que foram utilizadas 50 amostras de cada espécie.\"**"
      ],
      "metadata": {
        "id": "H6uTVsZyDmiu"
      }
    },
    {
      "cell_type": "code",
      "source": [
        "print(df.info())\n",
        "print()\n",
        "print(df.groupby('species').size())"
      ],
      "metadata": {
        "id": "SVSOHodjD5E_",
        "colab": {
          "base_uri": "https://localhost:8080/"
        },
        "outputId": "0b61d93e-9c90-4190-9df9-a8df3aa6d2b6"
      },
      "execution_count": 20,
      "outputs": [
        {
          "output_type": "stream",
          "name": "stdout",
          "text": [
            "<class 'pandas.core.frame.DataFrame'>\n",
            "RangeIndex: 150 entries, 0 to 149\n",
            "Data columns (total 5 columns):\n",
            " #   Column        Non-Null Count  Dtype  \n",
            "---  ------        --------------  -----  \n",
            " 0   sepal_length  150 non-null    float64\n",
            " 1   sepal_widht   150 non-null    float64\n",
            " 2   petal_lenght  150 non-null    float64\n",
            " 3   petal_width   150 non-null    float64\n",
            " 4   species       150 non-null    object \n",
            "dtypes: float64(4), object(1)\n",
            "memory usage: 6.0+ KB\n",
            "None\n",
            "\n",
            "species\n",
            "Iris-setosa        50\n",
            "Iris-versicolor    50\n",
            "Iris-virginica     50\n",
            "dtype: int64\n"
          ]
        }
      ]
    },
    {
      "cell_type": "markdown",
      "source": [
        "### **4** - Agora precisamos analisar os dados e tentar entender como eles se relacionam. Essa etapa faz parte da Analise Exploratória que vimos na última aula. Levante hipóteses sobre como as caracteristcas das Pétalas e das Sépalas influenciam na classificação da Iris e crie gráficos utilizando o **seaborn** para validar a sua hipótese.\n",
        "\n",
        "OBS: Lembre-se que temos 4 atributos numéricos possíveis, com um resultado do tipo objeto (classificação da flor). Verifique a documentação do seaborn em (https://seaborn.pydata.org/examples/index.html) para determinar qual gráfico é mais adequado para validar a sua hipótese."
      ],
      "metadata": {
        "id": "g2UEYzQSEvSG"
      }
    },
    {
      "cell_type": "code",
      "source": [
        "import seaborn as sns\n",
        "\n",
        "g = sns.violinplot(y='species', x='sepal_length', data=df, inner='quartile')\n",
        "plt.show()\n",
        "\n",
        "g = sns.violinplot(y='species', x='petal_lenght', data=df, inner='quartile')\n",
        "plt.show()\n",
        "\n",
        "g = sns.violinplot(y='species', x='sepal_widht', data=df, inner='quartile')\n",
        "plt.show()\n",
        "\n",
        "g = sns.violinplot(y='species', x='petal_width', data=df, inner='quartile')\n",
        "plt.show()"
      ],
      "metadata": {
        "id": "3ENXkuiVK7h1",
        "colab": {
          "base_uri": "https://localhost:8080/",
          "height": 1000
        },
        "outputId": "dd8bd7ab-35bf-47a8-9371-636852e8efc6"
      },
      "execution_count": 26,
      "outputs": [
        {
          "output_type": "display_data",
          "data": {
            "text/plain": [
              "<Figure size 432x288 with 1 Axes>"
            ],
            "image/png": "[encoded data removed]"
          },
          "metadata": {
            "needs_background": "light"
          }
        },
        {
          "output_type": "display_data",
          "data": {
            "text/plain": [
              "<Figure size 432x288 with 1 Axes>"
            ],
            "image/png": "[encoded data removed]"
          },
          "metadata": {
            "needs_background": "light"
          }
        },
        {
          "output_type": "display_data",
          "data": {
            "text/plain": [
              "<Figure size 432x288 with 1 Axes>"
            ],
            "image/png": "[encoded data removed]"
          },
          "metadata": {
            "needs_background": "light"
          }
        },
        {
          "output_type": "display_data",
          "data": {
            "text/plain": [
              "<Figure size 432x288 with 1 Axes>"
            ],
            "image/png": "[encoded data removed]"
          },
          "metadata": {
            "needs_background": "light"
          }
        }
      ]
    },
    {
      "cell_type": "markdown",
      "source": [
        "Resposta: A melhor correlação que pode determinar a espécie da flor é..."
      ],
      "metadata": {
        "id": "zwh86NKqhBB0"
      }
    },
    {
      "cell_type": "markdown",
      "source": [
        "### **5** - Agora que você identificou uma correlação entre os tamanhos de pétalas e sépalas, e como elas podem determinar a classificação da flor, vamos nos preparar para implementar o modelo. Primeiro temos que criar um novo dataset, somente com os dados que vamos utilizar, aqueles que identificamos a correlação.\n",
        "\n",
        "Obs: Lembre-se que estamos começando o projeto do nosso modelo, então precisamos criar duas \"tabelas\", uma com os atributos (entradas) e outra com a classificação (classe)."
      ],
      "metadata": {
        "id": "dkOcel9VQrGp"
      }
    },
    {
      "cell_type": "code",
      "source": [
        "# Selecionando um sub-dataframe com os campos petal_lenght e sepal_widht,\n",
        "# e outro com a variável de classes\n",
        "entradas = df[['sepal_length', 'petal_width']]\n",
        "classes = df['species']\n",
        "print(f\"Formato das tabelas de dados {entradas.shape} e classes {classes.shape}\")"
      ],
      "metadata": {
        "id": "idzl_o-tRxkW",
        "colab": {
          "base_uri": "https://localhost:8080/"
        },
        "outputId": "b7e71106-7b96-476b-bde8-e66da3403591"
      },
      "execution_count": 28,
      "outputs": [
        {
          "output_type": "stream",
          "name": "stdout",
          "text": [
            "Formato das tabelas de dados (150, 2) e classes (150,)\n"
          ]
        }
      ]
    },
    {
      "cell_type": "markdown",
      "source": [
        "### **6 -** Com os dois suconjuntos criados precisamos separa-los em Treino e Teste! \n",
        "Como assim você deve estar se perguntando. É simples: Imagine que o modelo é uma criança a qual você está tentando ensinar o que é um cachorro. Um jeito de fazer isso é mostrar vários cachorros para ela, dizendo \"Olá só, isso é um cachorro. Ele tem quatro patas, tem rabo e faz \"au-au\"\". Depois de mostrar muitos cachorros para a criança, você mostra outros animais e pergunta: \"Isso é um cachorro?\". A criança vai lembrar das caracteristicas que aprendeu e vai responder sim ou não. \n",
        "\n",
        "Para algoritmos de ML é a mesma coisa, nós vamos pegar um dataset de Treino e vamos passar no algoritmo, ja dando as respostas. Ele vai entender a correlação dos dados com a classificação. No nosso caso, ele vai relacionar as caracteristicas dos atributos com o tipo de flor. Depois vamos passar no algoritmo os dados de Teste, sem as respostas, e ele vai precisar lembrar do treino e classficar esses novos dados.\n",
        "\n",
        "Normalmente usamos 80% do Dataset para Treino e 20% para Teste, e para isso, vamos usar o **Scikit-Learn** com a função **train_test_split()**. Ele vai pegar o nosso dataset e fazer essa separação de forma aleatória."
      ],
      "metadata": {
        "id": "5APpMx0mhS2K"
      }
    },
    {
      "cell_type": "code",
      "source": [
        "# Separamos 20% para o teste\n",
        "from sklearn.model_selection import train_test_split\n",
        "\n",
        "entradas_treino, entradas_teste, classes_treino, classes_teste = train_test_split(entradas, classes, test_size=0.2)\n",
        "\n",
        "print(f\"Formato das tablas de dados de treino {entradas_treino.shape} e teste {entradas_teste.shape}\")\n",
        "\n",
        "# Primeiras linhas do dataframe\n",
        "entradas_treino.head()\n",
        "\n",
        "print()\n",
        "\n",
        "classes_treino.head()"
      ],
      "metadata": {
        "id": "Vvz9cB4Zl1aa",
        "colab": {
          "base_uri": "https://localhost:8080/"
        },
        "outputId": "4278cca2-7c78-43ae-ad6e-4d2555bc4ca0"
      },
      "execution_count": 29,
      "outputs": [
        {
          "output_type": "stream",
          "name": "stdout",
          "text": [
            "Formato das tablas de dados de treino (120, 2) e teste (30, 2)\n",
            "\n"
          ]
        },
        {
          "output_type": "execute_result",
          "data": {
            "text/plain": [
              "5         Iris-setosa\n",
              "12        Iris-setosa\n",
              "134    Iris-virginica\n",
              "141    Iris-virginica\n",
              "104    Iris-virginica\n",
              "Name: species, dtype: object"
            ]
          },
          "metadata": {},
          "execution_count": 29
        }
      ]
    },
    {
      "cell_type": "markdown",
      "source": [
        "### **7 -** Agora vamos treinar o nosso modelo baseado no Algoritmo K-NN!\n",
        "\n",
        "Treinar um modelo no python é simples se usar o Scikit-Learn e treinar um modelo no Scikit-Learn é mais simples ainda: basta criar o classificador, e chamar o método fit().\n",
        "\n",
        "Uma observação sobre a sintaxe dos classificadores do scikit-learn:\n",
        "\n",
        "* O método fit(X,Y) recebe uma matriz ou dataframe X onde cada linha é uma amostra de aprendizado, e um array Y contendo as saídas esperadas do classificador, seja na forma de texto ou de inteiros;\n",
        "* O método predict(X) recebe uma matriz ou dataframe X onde cada linha é uma amostra de teste, retornando um array de classes;\n",
        "* Não esqueça de importar as bibliotécas com \"from sklearn.neighbors import KNeighborsClassifier\";\n",
        "\n",
        "Faça o treinamento do modelo usando um K = 3"
      ],
      "metadata": {
        "id": "p3CuLPv6r_9v"
      }
    },
    {
      "cell_type": "code",
      "source": [
        "# Importa a biblioteca\n",
        "from sklearn.neighbors import KNeighborsClassifier\n",
        "\n",
        "#Cria o classificar KNN\n",
        "k = 3\n",
        "modelo = KNeighborsClassifier(n_neighbors=k)\n",
        "\n",
        "#Cria o modelo de machine learning\n",
        "modelo.fit(entradas_treino, classes_treino)"
      ],
      "metadata": {
        "id": "mlSA3bdZtF4q",
        "colab": {
          "base_uri": "https://localhost:8080/",
          "height": 75
        },
        "outputId": "6a3ec5aa-9fcc-47a0-c764-96ff4081cd52"
      },
      "execution_count": 30,
      "outputs": [
        {
          "output_type": "execute_result",
          "data": {
            "text/plain": [
              "KNeighborsClassifier(n_neighbors=3)"
            ],
            "text/html": [
              "<style>#sk-container-id-1 {color: black;background-color: white;}#sk-container-id-1 pre{padding: 0;}#sk-container-id-1 div.sk-toggleable {background-color: white;}#sk-container-id-1 label.sk-toggleable__label {cursor: pointer;display: block;width: 100%;margin-bottom: 0;padding: 0.3em;box-sizing: border-box;text-align: center;}#sk-container-id-1 label.sk-toggleable__label-arrow:before {content: \"▸\";float: left;margin-right: 0.25em;color: #696969;}#sk-container-id-1 label.sk-toggleable__label-arrow:hover:before {color: black;}#sk-container-id-1 div.sk-estimator:hover label.sk-toggleable__label-arrow:before {color: black;}#sk-container-id-1 div.sk-toggleable__content {max-height: 0;max-width: 0;overflow: hidden;text-align: left;background-color: #f0f8ff;}#sk-container-id-1 div.sk-toggleable__content pre {margin: 0.2em;color: black;border-radius: 0.25em;background-color: #f0f8ff;}#sk-container-id-1 input.sk-toggleable__control:checked~div.sk-toggleable__content {max-height: 200px;max-width: 100%;overflow: auto;}#sk-container-id-1 input.sk-toggleable__control:checked~label.sk-toggleable__label-arrow:before {content: \"▾\";}#sk-container-id-1 div.sk-estimator input.sk-toggleable__control:checked~label.sk-toggleable__label {background-color: #d4ebff;}#sk-container-id-1 div.sk-label input.sk-toggleable__control:checked~label.sk-toggleable__label {background-color: #d4ebff;}#sk-container-id-1 input.sk-hidden--visually {border: 0;clip: rect(1px 1px 1px 1px);clip: rect(1px, 1px, 1px, 1px);height: 1px;margin: -1px;overflow: hidden;padding: 0;position: absolute;width: 1px;}#sk-container-id-1 div.sk-estimator {font-family: monospace;background-color: #f0f8ff;border: 1px dotted black;border-radius: 0.25em;box-sizing: border-box;margin-bottom: 0.5em;}#sk-container-id-1 div.sk-estimator:hover {background-color: #d4ebff;}#sk-container-id-1 div.sk-parallel-item::after {content: \"\";width: 100%;border-bottom: 1px solid gray;flex-grow: 1;}#sk-container-id-1 div.sk-label:hover label.sk-toggleable__label {background-color: #d4ebff;}#sk-container-id-1 div.sk-serial::before {content: \"\";position: absolute;border-left: 1px solid gray;box-sizing: border-box;top: 0;bottom: 0;left: 50%;z-index: 0;}#sk-container-id-1 div.sk-serial {display: flex;flex-direction: column;align-items: center;background-color: white;padding-right: 0.2em;padding-left: 0.2em;position: relative;}#sk-container-id-1 div.sk-item {position: relative;z-index: 1;}#sk-container-id-1 div.sk-parallel {display: flex;align-items: stretch;justify-content: center;background-color: white;position: relative;}#sk-container-id-1 div.sk-item::before, #sk-container-id-1 div.sk-parallel-item::before {content: \"\";position: absolute;border-left: 1px solid gray;box-sizing: border-box;top: 0;bottom: 0;left: 50%;z-index: -1;}#sk-container-id-1 div.sk-parallel-item {display: flex;flex-direction: column;z-index: 1;position: relative;background-color: white;}#sk-container-id-1 div.sk-parallel-item:first-child::after {align-self: flex-end;width: 50%;}#sk-container-id-1 div.sk-parallel-item:last-child::after {align-self: flex-start;width: 50%;}#sk-container-id-1 div.sk-parallel-item:only-child::after {width: 0;}#sk-container-id-1 div.sk-dashed-wrapped {border: 1px dashed gray;margin: 0 0.4em 0.5em 0.4em;box-sizing: border-box;padding-bottom: 0.4em;background-color: white;}#sk-container-id-1 div.sk-label label {font-family: monospace;font-weight: bold;display: inline-block;line-height: 1.2em;}#sk-container-id-1 div.sk-label-container {text-align: center;}#sk-container-id-1 div.sk-container {/* jupyter's `normalize.less` sets `[hidden] { display: none; }` but bootstrap.min.css set `[hidden] { display: none !important; }` so we also need the `!important` here to be able to override the default hidden behavior on the sphinx rendered scikit-learn.org. See: https://github.com/scikit-learn/scikit-learn/issues/21755 */display: inline-block !important;position: relative;}#sk-container-id-1 div.sk-text-repr-fallback {display: none;}</style><div id=\"sk-container-id-1\" class=\"sk-top-container\"><div class=\"sk-text-repr-fallback\"><pre>KNeighborsClassifier(n_neighbors=3)</pre><b>In a Jupyter environment, please rerun this cell to show the HTML representation or trust the notebook. <br />On GitHub, the HTML representation is unable to render, please try loading this page with nbviewer.org.</b></div><div class=\"sk-container\" hidden><div class=\"sk-item\"><div class=\"sk-estimator sk-toggleable\"><input class=\"sk-toggleable__control sk-hidden--visually\" id=\"sk-estimator-id-1\" type=\"checkbox\" checked><label for=\"sk-estimator-id-1\" class=\"sk-toggleable__label sk-toggleable__label-arrow\">KNeighborsClassifier</label><div class=\"sk-toggleable__content\"><pre>KNeighborsClassifier(n_neighbors=3)</pre></div></div></div></div></div>"
            ]
          },
          "metadata": {},
          "execution_count": 30
        }
      ]
    },
    {
      "cell_type": "markdown",
      "source": [
        "## **8 -** Agora que temos o modelo treinado, vamos testar!\n",
        "\n",
        "Para testar o modelo, vamos usar o método predict() com os dados de teste que separamos. Verifique se as resposta fazem sentido e determine a acurácia do modelo, ou seja, a quatidade de acertos que ele teve. Você vai precisar importar essa bibliotéca também com \"from sklearn.metrics import accuracy_score\""
      ],
      "metadata": {
        "id": "9Uxo_gA1tVn2"
      }
    },
    {
      "cell_type": "code",
      "source": [
        "# Para obter as previsões, basta chamar o método predict()\n",
        "classes_encontradas = modelo.predict(entradas_teste)\n",
        "print(\"Predição: {}\".format(classes_encontradas))\n",
        "print()\n",
        "\n",
        "# Para determinar a quantidade de acertos (acurácia)\n",
        "\n",
        "from sklearn.metrics import accuracy_score\n",
        "acertos = accuracy_score(classes_teste, classes_encontradas)\n",
        "print(\"Acerto médio de classificação: \", acertos)"
      ],
      "metadata": {
        "id": "L_H4SSbEtuBg",
        "colab": {
          "base_uri": "https://localhost:8080/"
        },
        "outputId": "60f00e62-1627-4444-adab-0cb774298882"
      },
      "execution_count": 31,
      "outputs": [
        {
          "output_type": "stream",
          "name": "stdout",
          "text": [
            "Predição: ['Iris-virginica' 'Iris-setosa' 'Iris-versicolor' 'Iris-setosa'\n",
            " 'Iris-virginica' 'Iris-versicolor' 'Iris-versicolor' 'Iris-versicolor'\n",
            " 'Iris-virginica' 'Iris-virginica' 'Iris-versicolor' 'Iris-virginica'\n",
            " 'Iris-setosa' 'Iris-setosa' 'Iris-versicolor' 'Iris-virginica'\n",
            " 'Iris-versicolor' 'Iris-versicolor' 'Iris-setosa' 'Iris-setosa'\n",
            " 'Iris-setosa' 'Iris-versicolor' 'Iris-virginica' 'Iris-virginica'\n",
            " 'Iris-setosa' 'Iris-versicolor' 'Iris-versicolor' 'Iris-versicolor'\n",
            " 'Iris-versicolor' 'Iris-virginica']\n",
            "\n",
            "Acerto médio de classificação:  0.9\n"
          ]
        }
      ]
    },
    {
      "cell_type": "markdown",
      "source": [
        "### **9 -** Fizemos o treinamento do algortimo com um K igual a 3 e obtivemos uma determinada acurácia, mas se mudarmos esse valor de K, será que teremos resultados melhors?\n",
        "\n",
        "Faça um programa que treina o algoritmo com valores de K iniciando em 1 e indo até 26. Verifique a acurácia para cada K, armazenando esses valores em uma lista. Por fim, plote um gráfico com os valores de acurácia obtidos e determine se se houve mudanças de perfomance com K maiores."
      ],
      "metadata": {
        "id": "bsVedqNOugV4"
      }
    },
    {
      "cell_type": "code",
      "source": [
        "\n",
        "#### Reposta loop for para diferentes k\n",
        "k_range = list(range(1, 26))\n",
        "acertos = []\n",
        "for k in k_range:\n",
        "  modelo = KNeighborsClassifier(n_neighbors)"
      ],
      "metadata": {
        "id": "qA1C4PVWvl80"
      },
      "execution_count": 10,
      "outputs": []
    },
    {
      "cell_type": "markdown",
      "source": [
        "### **10 -** Por fim, vamos exportar o nosso modelo para ultizar em nossas aplicações. Para fazer isso, usaremos o Pickle, com o método dump()"
      ],
      "metadata": {
        "id": "H-EBadAuxQXF"
      }
    },
    {
      "cell_type": "code",
      "source": [
        "import pickle\n",
        "\n",
        "with open('knn_model.pkl', 'wb') as file:\n",
        "  pickle.dump(modelo,file)"
      ],
      "metadata": {
        "id": "7pX_JBTZwwst",
        "colab": {
          "base_uri": "https://localhost:8080/",
          "height": 201
        },
        "outputId": "97546bb9-223a-4772-edba-e58eebb73b60"
      },
      "execution_count": 11,
      "outputs": [
        {
          "output_type": "error",
          "ename": "NameError",
          "evalue": "ignored",
          "traceback": [
            "\u001b[0;31m---------------------------------------------------------------------------\u001b[0m",
            "\u001b[0;31mNameError\u001b[0m                                 Traceback (most recent call last)",
            "\u001b[0;32m<ipython-input-11-9d27a685850f>\u001b[0m in \u001b[0;36m<module>\u001b[0;34m\u001b[0m\n\u001b[1;32m      2\u001b[0m \u001b[0;34m\u001b[0m\u001b[0m\n\u001b[1;32m      3\u001b[0m \u001b[0;32mwith\u001b[0m \u001b[0mopen\u001b[0m\u001b[0;34m(\u001b[0m\u001b[0;34m'knn_model.pkl'\u001b[0m\u001b[0;34m,\u001b[0m \u001b[0;34m'wb'\u001b[0m\u001b[0;34m)\u001b[0m \u001b[0;32mas\u001b[0m \u001b[0mfile\u001b[0m\u001b[0;34m:\u001b[0m\u001b[0;34m\u001b[0m\u001b[0;34m\u001b[0m\u001b[0m\n\u001b[0;32m----> 4\u001b[0;31m   \u001b[0mpickle\u001b[0m\u001b[0;34m.\u001b[0m\u001b[0mdump\u001b[0m\u001b[0;34m(\u001b[0m\u001b[0mmodelo\u001b[0m\u001b[0;34m,\u001b[0m\u001b[0mfile\u001b[0m\u001b[0;34m)\u001b[0m\u001b[0;34m\u001b[0m\u001b[0;34m\u001b[0m\u001b[0m\n\u001b[0m",
            "\u001b[0;31mNameError\u001b[0m: name 'modelo' is not defined"
          ]
        }
      ]
    }
  ]
}